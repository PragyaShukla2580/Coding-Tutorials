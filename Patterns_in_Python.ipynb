{
  "nbformat": 4,
  "nbformat_minor": 0,
  "metadata": {
    "colab": {
      "provenance": []
    },
    "kernelspec": {
      "name": "python3",
      "display_name": "Python 3"
    },
    "language_info": {
      "name": "python"
    }
  },
  "cells": [
    {
      "cell_type": "code",
      "source": [
        "length = 5\n",
        "for i in range(1 ,length+1):\n",
        "  # print(i)\n",
        "  print(\"*\"*i)"
      ],
      "metadata": {
        "colab": {
          "base_uri": "https://localhost:8080/"
        },
        "id": "c9wNEupLozA8",
        "outputId": "f2973469-a2c8-41cb-cc38-24fbe1e4ec45"
      },
      "execution_count": 13,
      "outputs": [
        {
          "output_type": "stream",
          "name": "stdout",
          "text": [
            "*\n",
            "**\n",
            "***\n",
            "****\n",
            "*****\n"
          ]
        }
      ]
    },
    {
      "cell_type": "code",
      "source": [
        "length = 5\n",
        "for i in range(length):\n",
        "  print(\"*\"*(length-i))"
      ],
      "metadata": {
        "colab": {
          "base_uri": "https://localhost:8080/"
        },
        "id": "kxdZ_KGZozEV",
        "outputId": "b6077a78-9c41-49c3-c5d0-287feac73399"
      },
      "execution_count": 14,
      "outputs": [
        {
          "output_type": "stream",
          "name": "stdout",
          "text": [
            "*****\n",
            "****\n",
            "***\n",
            "**\n",
            "*\n"
          ]
        }
      ]
    },
    {
      "cell_type": "code",
      "source": [
        "length = 5\n",
        "for i in range(1, length+1):\n",
        "  # print space followed by number of stars\n",
        "  print(\" \"*(length-i) + \"*\"*(2*(i-1)+1))"
      ],
      "metadata": {
        "colab": {
          "base_uri": "https://localhost:8080/"
        },
        "id": "S3k3yTdlsla-",
        "outputId": "a9e3211e-a236-4af7-a3b2-a12790b794c5"
      },
      "execution_count": 16,
      "outputs": [
        {
          "output_type": "stream",
          "name": "stdout",
          "text": [
            "    *\n",
            "   ***\n",
            "  *****\n",
            " *******\n",
            "*********\n"
          ]
        }
      ]
    },
    {
      "cell_type": "code",
      "source": [
        "for i in range(length, 0, -1):\n",
        "  # print(i)\n",
        "  print(\" \"*(length-i) + \"*\"*(2*(i-1)+1))"
      ],
      "metadata": {
        "colab": {
          "base_uri": "https://localhost:8080/"
        },
        "id": "ku-5XDSauE4Q",
        "outputId": "9eb6f441-e5fb-4120-97c9-ec81a5b90404"
      },
      "execution_count": 18,
      "outputs": [
        {
          "output_type": "stream",
          "name": "stdout",
          "text": [
            "*********\n",
            " *******\n",
            "  *****\n",
            "   ***\n",
            "    *\n"
          ]
        }
      ]
    },
    {
      "cell_type": "code",
      "source": [
        "for i in range(1, length+1):\n",
        "  lis = [j for j in range(1, i+1)]\n",
        "  print(\"\".join(map(str,lis)))"
      ],
      "metadata": {
        "colab": {
          "base_uri": "https://localhost:8080/"
        },
        "id": "k16vPMcYvEJb",
        "outputId": "38084210-b75b-4966-8ad8-33144f435f14"
      },
      "execution_count": 21,
      "outputs": [
        {
          "output_type": "stream",
          "name": "stdout",
          "text": [
            "1\n",
            "12\n",
            "123\n",
            "1234\n",
            "12345\n"
          ]
        }
      ]
    },
    {
      "cell_type": "code",
      "source": [
        "for i in range(length, 0, -1):\n",
        "  lis = [j for j in range(1, i+1)]\n",
        "  # print(lis)\n",
        "  print(\"\".join(map(str,lis)))"
      ],
      "metadata": {
        "colab": {
          "base_uri": "https://localhost:8080/"
        },
        "id": "OjPSa2hovjc1",
        "outputId": "83cac3eb-d908-497a-8d52-26324c4f8de0"
      },
      "execution_count": 23,
      "outputs": [
        {
          "output_type": "stream",
          "name": "stdout",
          "text": [
            "12345\n",
            "1234\n",
            "123\n",
            "12\n",
            "1\n"
          ]
        }
      ]
    },
    {
      "cell_type": "code",
      "source": [
        "for i in range(1, length+1):\n",
        "  print(str(i)*i)"
      ],
      "metadata": {
        "colab": {
          "base_uri": "https://localhost:8080/"
        },
        "id": "ENSt1mPCwqvN",
        "outputId": "17c2d756-83b5-49e0-aef2-186628e4ceed"
      },
      "execution_count": 25,
      "outputs": [
        {
          "output_type": "stream",
          "name": "stdout",
          "text": [
            "1\n",
            "22\n",
            "333\n",
            "4444\n",
            "55555\n"
          ]
        }
      ]
    },
    {
      "cell_type": "markdown",
      "source": [
        "**Exercise**\n"
      ],
      "metadata": {
        "id": "r228-ypU40xT"
      }
    },
    {
      "cell_type": "code",
      "source": [
        "# Try this pattern"
      ],
      "metadata": {
        "colab": {
          "base_uri": "https://localhost:8080/"
        },
        "id": "F-ztjH8F428h",
        "outputId": "bf780e04-f61e-4ff2-fb57-54ec3e0fe720"
      },
      "execution_count": 26,
      "outputs": [
        {
          "output_type": "stream",
          "name": "stdout",
          "text": [
            "    *\n",
            "   ***\n",
            "  *****\n",
            " *******\n",
            "*********\n",
            " *******\n",
            "  *****\n",
            "   ***\n",
            "    *\n"
          ]
        }
      ]
    }
  ]
}